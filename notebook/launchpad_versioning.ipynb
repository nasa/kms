{
 "cells": [
  {
   "cell_type": "markdown",
   "metadata": {},
   "source": [
    "## Prerequisites"
   ]
  },
  {
   "cell_type": "code",
   "execution_count": 1,
   "metadata": {},
   "outputs": [
    {
     "name": "stdout",
     "output_type": "stream",
     "text": [
      "Defaulting to user installation because normal site-packages is not writeable\n",
      "Requirement already satisfied: requests in /Users/cgokey/Library/Python/3.13/lib/python/site-packages (2.32.3)\n",
      "Requirement already satisfied: charset-normalizer<4,>=2 in /Users/cgokey/Library/Python/3.13/lib/python/site-packages (from requests) (3.4.1)\n",
      "Requirement already satisfied: idna<4,>=2.5 in /Users/cgokey/Library/Python/3.13/lib/python/site-packages (from requests) (3.10)\n",
      "Requirement already satisfied: urllib3<3,>=1.21.1 in /Users/cgokey/Library/Python/3.13/lib/python/site-packages (from requests) (2.3.0)\n",
      "Requirement already satisfied: certifi>=2017.4.17 in /Users/cgokey/Library/Python/3.13/lib/python/site-packages (from requests) (2025.1.31)\n",
      "\n",
      "\u001b[1m[\u001b[0m\u001b[34;49mnotice\u001b[0m\u001b[1;39;49m]\u001b[0m\u001b[39;49m A new release of pip is available: \u001b[0m\u001b[31;49m24.3.1\u001b[0m\u001b[39;49m -> \u001b[0m\u001b[32;49m25.0.1\u001b[0m\n",
      "\u001b[1m[\u001b[0m\u001b[34;49mnotice\u001b[0m\u001b[1;39;49m]\u001b[0m\u001b[39;49m To update, run: \u001b[0m\u001b[32;49mpython3 -m pip install --upgrade pip\u001b[0m\n"
     ]
    }
   ],
   "source": [
    "! python3 -m pip install requests"
   ]
  },
  {
   "cell_type": "code",
   "execution_count": 2,
   "metadata": {},
   "outputs": [],
   "source": [
    "import requests\n",
    "\n",
    "def read_token(file_path):\n",
    "    with open(file_path, 'r') as file:\n",
    "        return file.read().strip()\n",
    "\n",
    "# Usage\n",
    "token_file_path = 'token.txt'\n",
    "launchpad_token = read_token(token_file_path)\n"
   ]
  },
  {
   "cell_type": "markdown",
   "metadata": {},
   "source": [
    "## Demo of Launchpad Authentication\n",
    "### Creating a concept now requires launchpad token"
   ]
  },
  {
   "cell_type": "markdown",
   "metadata": {},
   "source": []
  },
  {
   "cell_type": "code",
   "execution_count": 3,
   "metadata": {},
   "outputs": [
    {
     "name": "stdout",
     "output_type": "stream",
     "text": [
      "201\n",
      "{\"message\":\"Successfully created concept\",\"conceptId\":\"0071a00d6-29c6-460a-9d59-d593e430d263\"}\n"
     ]
    }
   ],
   "source": [
    "headers = {\n",
    "    'Content-Type': 'application/rdf+xml',\n",
    "    'Accept': 'application/json',\n",
    "    'Authorization': launchpad_token\n",
    "}\n",
    "response = requests.post(\n",
    "    \"https://cmr.sit.earthdata.nasa.gov/kms/concept\",\n",
    "    headers=headers,\n",
    "    data=open('create.rdf', 'rb').read()\n",
    ")\n",
    "print(response.status_code)\n",
    "print(response.text)"
   ]
  },
  {
   "cell_type": "markdown",
   "metadata": {},
   "source": [
    "###  Authentication errror will occur if invalid token provided"
   ]
  },
  {
   "cell_type": "code",
   "execution_count": 4,
   "metadata": {},
   "outputs": [
    {
     "name": "stdout",
     "output_type": "stream",
     "text": [
      "401\n",
      "{\"message\":\"Unauthorized\"}\n"
     ]
    }
   ],
   "source": [
    "headers = {\n",
    "    'Content-Type': 'application/rdf+xml',\n",
    "    'Accept': 'application/json',\n",
    "    'Authorization': 'invalid token'\n",
    "}\n",
    "response = requests.post(\n",
    "    \"https://cmr.sit.earthdata.nasa.gov/kms/concept\",\n",
    "    headers=headers,\n",
    "    data=open('create.rdf', 'rb').read()\n",
    ")\n",
    "print(response.status_code)\n",
    "print(response.text)"
   ]
  },
  {
   "cell_type": "markdown",
   "metadata": {},
   "source": [
    "## Demo of Publishing\n",
    "### Retrieving a list of published versions\n"
   ]
  },
  {
   "cell_type": "code",
   "execution_count": 7,
   "metadata": {},
   "outputs": [
    {
     "name": "stdout",
     "output_type": "stream",
     "text": [
      "200\n",
      "<versions xmlns:xsi=\"http://www.w3.org/2001/XMLSchema-instance\" xsi:noNamespaceSchemaLocation=\"https://gcmd.earthdata.nasa.gov/static/kms/kms.xsd\">\n",
      "  <version type=\"published\" creation_date=\"2025-03-17\">demo_v1</version>\n",
      "  <version type=\"past_published\" creation_date=\"2025-03-14\">mandy_sit_testing_2</version>\n",
      "  <version type=\"past_published\" creation_date=\"2025-03-14\">mandy_sit_testing</version>\n",
      "  <version type=\"draft\" creation_date=\"2025-03-13\">draft</version>\n",
      "  <version type=\"past_published\" creation_date=\"2025-03-17\">chris_v2</version>\n",
      "  <version type=\"past_published\" creation_date=\"2025-03-17\">chris_v1</version>\n",
      "  <version type=\"past_published\" creation_date=\"2025-03-14\">chris_test_version_1</version>\n",
      "  <version type=\"past_published\" creation_date=\"2025-03-12\">20.8</version>\n",
      "</versions>\n",
      "\n"
     ]
    }
   ],
   "source": [
    "headers = {\n",
    "    'Content-Type': 'application/rdf+xml',\n",
    "    'Accept': 'application/json',\n",
    "    'Authorization': launchpad_token\n",
    "}\n",
    "response = requests.get(\n",
    "    \"https://cmr.sit.earthdata.nasa.gov/kms/concept_versions/version_type/all\",\n",
    "    headers=headers,\n",
    ")\n",
    "print(response.status_code)\n",
    "print(response.text)"
   ]
  },
  {
   "cell_type": "markdown",
   "metadata": {},
   "source": [
    "#### Publishing draft\n",
    "1. Moves draft to published\n",
    "2. Moves published to past_published"
   ]
  },
  {
   "cell_type": "code",
   "execution_count": 6,
   "metadata": {},
   "outputs": [
    {
     "name": "stdout",
     "output_type": "stream",
     "text": [
      "200\n",
      "{\"message\":\"Published draft to demo_v1 successfully\"}\n"
     ]
    }
   ],
   "source": [
    "headers = {\n",
    "    'Accept': 'application/json',\n",
    "    'Authorization': launchpad_token\n",
    "}\n",
    "response = requests.post(\n",
    "    \"https://cmr.sit.earthdata.nasa.gov/kms/publish?name=demo_v1\",\n",
    "    headers=headers,\n",
    ")\n",
    "print(response.status_code)\n",
    "print(response.text)"
   ]
  },
  {
   "cell_type": "markdown",
   "metadata": {},
   "source": [
    "## Tree API used by Keyword Viewer"
   ]
  },
  {
   "cell_type": "code",
   "execution_count": null,
   "metadata": {},
   "outputs": [],
   "source": [
    "headers = {\n",
    "    'Content-Type': 'application/rdf+xml',\n",
    "    'Accept': 'application/json'\n",
    "}\n",
    "response = requests.get(\n",
    "    \"https://cmr.sit.earthdata.nasa.gov/kms/tree/concept_scheme/all?filter=snow\",\n",
    "    headers=headers,\n",
    ")\n",
    "print(response.status_code)\n",
    "print(response.text)"
   ]
  }
 ],
 "metadata": {
  "kernelspec": {
   "display_name": "Python 3 (ipykernel)",
   "language": "python",
   "name": "python3"
  },
  "language_info": {
   "codemirror_mode": {
    "name": "ipython",
    "version": 3
   },
   "file_extension": ".py",
   "mimetype": "text/x-python",
   "name": "python",
   "nbconvert_exporter": "python",
   "pygments_lexer": "ipython3",
   "version": "3.13.1"
  }
 },
 "nbformat": 4,
 "nbformat_minor": 4
}
